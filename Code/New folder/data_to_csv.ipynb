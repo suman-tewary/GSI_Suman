{
 "cells": [
  {
   "cell_type": "code",
   "execution_count": 20,
   "id": "c9531e8b-737a-4866-92f6-32ec0d87704c",
   "metadata": {},
   "outputs": [
    {
     "name": "stdout",
     "output_type": "stream",
     "text": [
      "     Wavelength  Reflectance\n",
      "0         356.0        15.90\n",
      "1         366.0        13.74\n",
      "2         376.0        11.90\n",
      "3         386.0        10.11\n",
      "4         396.0         9.78\n",
      "..          ...          ...\n",
      "211      2466.0         5.98\n",
      "212      2476.0         5.41\n",
      "213      2486.0         5.52\n",
      "214      2496.0         5.77\n",
      "215      2506.0         6.12\n",
      "\n",
      "[216 rows x 2 columns]\n"
     ]
    }
   ],
   "source": [
    "import pandas as pd\n",
    "path=\"C:\\\\Users\\\\sumat\\\\Desktop\\\\GSI Suman\\\\Red Apple -By Suman\\\\03_10_24\\\\RED SIDE 4\\\\RS4_moc_resamp.sig\"\n",
    "\n",
    "file_path = path \n",
    "\n",
    "data = pd.read_csv(file_path, sep='\\s+', skiprows=4, on_bad_lines='skip')\n",
    "\n",
    "wavelength = data.iloc[:, 0]\n",
    "reflectance = data.iloc[:, -1]\n",
    "\n",
    "extracted_data = pd.DataFrame({\n",
    "    \"Wavelength\": wavelength,\n",
    "    \"Reflectance\": reflectance\n",
    "})\n",
    "\n",
    "extracted_data.to_csv('extracted_data.csv', index=False)\n",
    "print(extracted_data)\n"
   ]
  },
  {
   "cell_type": "code",
   "execution_count": 21,
   "id": "da4238b8-b277-4189-b7db-fcbf2923f1e1",
   "metadata": {},
   "outputs": [
    {
     "name": "stdout",
     "output_type": "stream",
     "text": [
      "Data from C:\\Users\\sumat\\Desktop\\GSI Suman\\Code\\New folder\\New folder\\GS1_moc_resamp.sig:\n",
      "   346.0   350.35   82.81  23.64\n",
      "0  356.0   548.37   98.92  18.04\n",
      "1  366.0   733.51  116.21  15.84\n",
      "2  376.0  1020.12  139.32  13.66\n",
      "3  386.0  1277.04  150.11  11.75\n",
      "4  396.0  1627.44  191.47  11.76\n",
      "Data from C:\\Users\\sumat\\Desktop\\GSI Suman\\Code\\New folder\\New folder (2)\\GS1_moc_resamp.sig:\n",
      "   346.0   350.35   82.81  23.64\n",
      "0  356.0   548.37   98.92  18.04\n",
      "1  366.0   733.51  116.21  15.84\n",
      "2  376.0  1020.12  139.32  13.66\n",
      "3  386.0  1277.04  150.11  11.75\n",
      "4  396.0  1627.44  191.47  11.76\n",
      "Saved processed data to C:\\Users\\sumat\\Desktop\\GSI Suman\\Code\\New folder\\New folder\\GS1_moc_resamp_processed.csv\n",
      "Saved processed data to C:\\Users\\sumat\\Desktop\\GSI Suman\\Code\\New folder\\New folder (2)\\GS1_moc_resamp_processed.csv\n"
     ]
    }
   ],
   "source": [
    "import os\n",
    "import pandas as pd\n",
    "import glob\n",
    "\n",
    "# Define the root directory path where your folders are located\n",
    "root_dir = \"C:\\\\Users\\\\sumat\\\\Desktop\\\\GSI Suman\\\\Code\\\\New folder\"  # Replace with the actual path to the root directory\n",
    "\n",
    "# Pattern to match files ending in \"_moc_resamp.sig\"\n",
    "file_pattern = os.path.join(root_dir, '**', '*_moc_resamp.sig')  # '**' for recursive search\n",
    "\n",
    "# List to store the results\n",
    "all_data = []\n",
    "\n",
    "# Use glob to search recursively for all files matching the pattern\n",
    "for file_path in glob.glob(file_pattern, recursive=True):\n",
    "    try:\n",
    "        # Read the file, skipping initial header lines\n",
    "        data = pd.read_csv(file_path, sep='\\s+', skiprows=4, on_bad_lines='skip')\n",
    "\n",
    "        # Optionally, you can print or manipulate the data\n",
    "        print(f\"Data from {file_path}:\")\n",
    "        print(data.head())  # Display the first few rows\n",
    "\n",
    "        # Append the data to all_data (optional, for later use)\n",
    "        all_data.append((file_path, data))\n",
    "\n",
    "    except Exception as e:\n",
    "        print(f\"Error processing file {file_path}: {e}\")\n",
    "\n",
    "# Example: If you want to save each file's processed data as a separate CSV\n",
    "for file_path, data in all_data:\n",
    "    # Define output path and file name\n",
    "    output_file = file_path.replace('.sig', '_processed.csv')\n",
    "    data.to_csv(output_file, index=False)\n",
    "    print(f\"Saved processed data to {output_file}\")\n"
   ]
  },
  {
   "cell_type": "code",
   "execution_count": 22,
   "id": "26f13208-e341-4ca6-b734-6900efc9b3a4",
   "metadata": {},
   "outputs": [
    {
     "name": "stdout",
     "output_type": "stream",
     "text": [
      "\n",
      "Data preview from C:\\Users\\sumat\\Desktop\\GSI Suman\\Code\\New folder\\New folder\\GS1_moc_resamp.sig:\n",
      "   346.0   350.35   82.81  23.64\n",
      "0  356.0   548.37   98.92  18.04\n",
      "1  366.0   733.51  116.21  15.84\n",
      "2  376.0  1020.12  139.32  13.66\n",
      "3  386.0  1277.04  150.11  11.75\n",
      "4  396.0  1627.44  191.47  11.76\n"
     ]
    },
    {
     "name": "stdin",
     "output_type": "stream",
     "text": [
      "Enter a name for the CSV file (without extension) for data from C:\\Users\\sumat\\Desktop\\GSI Suman\\Code\\New folder\\New folder\\GS1_moc_resamp.sig:  RD1T\n"
     ]
    },
    {
     "name": "stdout",
     "output_type": "stream",
     "text": [
      "Processed data saved to: C:\\Users\\sumat\\Desktop\\GSI Suman\\Code\\New folder\\New folder\\RD1T.csv\n",
      "\n",
      "Data preview from C:\\Users\\sumat\\Desktop\\GSI Suman\\Code\\New folder\\New folder (2)\\GS1_moc_resamp.sig:\n",
      "   346.0   350.35   82.81  23.64\n",
      "0  356.0   548.37   98.92  18.04\n",
      "1  366.0   733.51  116.21  15.84\n",
      "2  376.0  1020.12  139.32  13.66\n",
      "3  386.0  1277.04  150.11  11.75\n",
      "4  396.0  1627.44  191.47  11.76\n"
     ]
    },
    {
     "name": "stdin",
     "output_type": "stream",
     "text": [
      "Enter a name for the CSV file (without extension) for data from C:\\Users\\sumat\\Desktop\\GSI Suman\\Code\\New folder\\New folder (2)\\GS1_moc_resamp.sig:  RD1T2\n"
     ]
    },
    {
     "name": "stdout",
     "output_type": "stream",
     "text": [
      "Processed data saved to: C:\\Users\\sumat\\Desktop\\GSI Suman\\Code\\New folder\\New folder (2)\\RD1T2.csv\n"
     ]
    }
   ],
   "source": [
    "import os\n",
    "import pandas as pd\n",
    "import glob\n",
    "\n",
    "# Define the root directory path where your folders are located\n",
    "root_dir = \"C:\\\\Users\\\\sumat\\\\Desktop\\\\GSI Suman\\\\Code\\\\New folder\"  # Replace with the actual path to the root directory\n",
    "\n",
    "# Pattern to match files ending in \"_moc_resamp.sig\"\n",
    "file_pattern = os.path.join(root_dir, '**', '*_moc_resamp.sig')  # '**' for recursive search\n",
    "\n",
    "# Use glob to search recursively for all files matching the pattern\n",
    "for file_path in glob.glob(file_pattern, recursive=True):\n",
    "    try:\n",
    "        # Read the file, skipping initial header lines\n",
    "        data = pd.read_csv(file_path, sep='\\s+', skiprows=4, on_bad_lines='skip')\n",
    "\n",
    "        # Display the first few rows of the data for confirmation\n",
    "        print(f\"\\nData preview from {file_path}:\")\n",
    "        print(data.head())\n",
    "\n",
    "        # Ask the user for a custom name to save the file\n",
    "        custom_name = input(f\"Enter a name for the CSV file (without extension) for data from {file_path}: \")\n",
    "        \n",
    "        # Define output directory and file name\n",
    "        output_dir = os.path.dirname(file_path)\n",
    "        output_file = os.path.join(output_dir, f\"{custom_name}.csv\")\n",
    "        \n",
    "        # Save the processed data as a CSV file\n",
    "        data.to_csv(output_file, index=False)\n",
    "        \n",
    "        # Display the location of the saved file\n",
    "        print(f\"Processed data saved to: {output_file}\")\n",
    "\n",
    "    except Exception as e:\n",
    "        print(f\"Error processing file {file_path}: {e}\")\n"
   ]
  },
  {
   "cell_type": "code",
   "execution_count": 24,
   "id": "057ca7e0-6aae-4ae3-ace5-4263490e4f1c",
   "metadata": {},
   "outputs": [
    {
     "name": "stdin",
     "output_type": "stream",
     "text": [
      "Enter a name for the CSV file (without extension) for data from C:\\Users\\sumat\\Desktop\\GSI Suman\\Code\\New folder\\New folder\\GS1_moc_resamp.sig:  RD1T2\n"
     ]
    },
    {
     "name": "stdout",
     "output_type": "stream",
     "text": [
      "Processed data saved to: C:\\Users\\sumat\\Desktop\\GSI Suman\\Code\\New folder\\New folder\\RD1T2.csv\n",
      "\n"
     ]
    },
    {
     "name": "stdin",
     "output_type": "stream",
     "text": [
      "Enter a name for the CSV file (without extension) for data from C:\\Users\\sumat\\Desktop\\GSI Suman\\Code\\New folder\\New folder (2)\\GS1_moc_resamp.sig:  RD1T2\n"
     ]
    },
    {
     "name": "stdout",
     "output_type": "stream",
     "text": [
      "Processed data saved to: C:\\Users\\sumat\\Desktop\\GSI Suman\\Code\\New folder\\New folder (2)\\RD1T2.csv\n",
      "\n"
     ]
    }
   ],
   "source": [
    "import os\n",
    "import pandas as pd\n",
    "import glob\n",
    "\n",
    "# Define the root directory path where your folders are located\n",
    "root_dir = \"C:\\\\Users\\\\sumat\\\\Desktop\\\\GSI Suman\\\\Code\\\\New folder\"  # Replace with the actual path to the root directory\n",
    "\n",
    "# Pattern to match files ending in \"_moc_resamp.sig\"\n",
    "file_pattern = os.path.join(root_dir, '**', '*_moc_resamp.sig')  # '**' for recursive search\n",
    "\n",
    "# Use glob to search recursively for all files matching the pattern\n",
    "for file_path in glob.glob(file_pattern, recursive=True):\n",
    "    try:\n",
    "        # Read the file, skipping initial header lines\n",
    "        data = pd.read_csv(file_path, sep='\\s+', skiprows=4, on_bad_lines='skip')\n",
    "\n",
    "        \n",
    "        wavelength = data.iloc[:, 0]\n",
    "        reflectance = data.iloc[:, -1]\n",
    "\n",
    "        extracted_data = pd.DataFrame({\n",
    "            \"Wavelength\": wavelength,\n",
    "            \"Reflectance\": reflectance\n",
    "        })\n",
    "\n",
    "        # Ask the user for a custom name to save the file\n",
    "        custom_name = input(f\"Enter a name for the CSV file (without extension) for data from {file_path}: \")\n",
    "        \n",
    "        # Define output directory and file name\n",
    "        output_dir = os.path.dirname(file_path)\n",
    "        output_file = os.path.join(output_dir, f\"{custom_name}.csv\")\n",
    "        \n",
    "        # Save the processed data as a CSV file\n",
    "        extracted_data.to_csv(output_file, index=False)\n",
    "        \n",
    "        # Display the location of the saved file\n",
    "        print(f\"Processed data saved to: {output_file}\\n\")\n",
    "\n",
    "    except Exception as e:\n",
    "        print(f\"Error processing file {file_path}: {e}\")\n"
   ]
  },
  {
   "cell_type": "code",
   "execution_count": 26,
   "id": "b0323902-94b5-4103-b727-94390e0c4140",
   "metadata": {},
   "outputs": [
    {
     "name": "stdin",
     "output_type": "stream",
     "text": [
      "Enter a name for the CSV file (without extension) for data from C:\\Users\\sumat\\Desktop\\GSI Suman\\Code\\New folder\\New folder\\GS1_moc_resamp.sig:  RD1T2\n"
     ]
    },
    {
     "name": "stdout",
     "output_type": "stream",
     "text": [
      "Processed data saved to: C:\\Users\\sumat\\Desktop\\GSI Suman\\Processed Files\\RD1T2.csv\n",
      "\n"
     ]
    },
    {
     "name": "stdin",
     "output_type": "stream",
     "text": [
      "Enter a name for the CSV file (without extension) for data from C:\\Users\\sumat\\Desktop\\GSI Suman\\Code\\New folder\\New folder (2)\\GS1_moc_resamp.sig:  RD1T1\n"
     ]
    },
    {
     "name": "stdout",
     "output_type": "stream",
     "text": [
      "Processed data saved to: C:\\Users\\sumat\\Desktop\\GSI Suman\\Processed Files\\RD1T1.csv\n",
      "\n"
     ]
    }
   ],
   "source": [
    "import os\n",
    "import pandas as pd\n",
    "import glob\n",
    "\n",
    "# Define the root directory path where your folders are located\n",
    "root_dir = \"C:\\\\Users\\\\sumat\\\\Desktop\\\\GSI Suman\\\\Code\\\\New folder\"  # Replace with the actual path to the root directory\n",
    "\n",
    "# Define the output directory where you want to save all processed files\n",
    "output_dir = \"C:\\\\Users\\\\sumat\\\\Desktop\\\\GSI Suman\\\\Processed Files\"  # Replace with the desired output directory\n",
    "\n",
    "# Make sure the output directory exists\n",
    "os.makedirs(output_dir, exist_ok=True)\n",
    "\n",
    "# Pattern to match files ending in \"_moc_resamp.sig\"\n",
    "file_pattern = os.path.join(root_dir, '**', '*_moc_resamp.sig')  # '**' for recursive search\n",
    "\n",
    "# Use glob to search recursively for all files matching the pattern\n",
    "for file_path in glob.glob(file_pattern, recursive=True):\n",
    "    try:\n",
    "        # Read the file, skipping initial header lines\n",
    "        data = pd.read_csv(file_path, sep='\\s+', skiprows=4, on_bad_lines='skip')\n",
    "\n",
    "        wavelength = data.iloc[:, 0]\n",
    "        reflectance = data.iloc[:, -1]\n",
    "\n",
    "        extracted_data = pd.DataFrame({\n",
    "            \"Wavelength\": wavelength,\n",
    "            \"Reflectance\": reflectance\n",
    "        })\n",
    "\n",
    "        # Ask the user for a custom name to save the file\n",
    "        custom_name = input(f\"Enter a name for the CSV file (without extension) for data from {file_path}: \")\n",
    "\n",
    "        # Define the output file path in the specified directory\n",
    "        output_file = os.path.join(output_dir, f\"{custom_name}.csv\")\n",
    "        \n",
    "        # Save the processed data as a CSV file\n",
    "        extracted_data.to_csv(output_file, index=False)\n",
    "        \n",
    "        # Display the location of the saved file\n",
    "        print(f\"Processed data saved to: {output_file}\\n\")\n",
    "\n",
    "    except Exception as e:\n",
    "        print(f\"Error processing file {file_path}: {e}\")\n"
   ]
  },
  {
   "cell_type": "code",
   "execution_count": 28,
   "id": "28a9ea29-3cfb-4240-a131-5c16fe321937",
   "metadata": {},
   "outputs": [
    {
     "name": "stdin",
     "output_type": "stream",
     "text": [
      "Enter a name for the CSV file (without extension) for data from C:\\Users\\sumat\\Desktop\\GSI Suman\\Code\\New folder\\New folder\\GS1_moc_resamp.sig:  RD1T1\n"
     ]
    },
    {
     "name": "stdout",
     "output_type": "stream",
     "text": [
      "Processed data saved to: C:\\Users\\sumat\\Desktop\\GSI Suman\\Processed Files\\RD1T1.csv\n",
      "Original .sig file copied to: C:\\Users\\sumat\\Desktop\\GSI Suman\\Processed Files\\RD1T1.sig\n",
      "\n"
     ]
    },
    {
     "name": "stdin",
     "output_type": "stream",
     "text": [
      "Enter a name for the CSV file (without extension) for data from C:\\Users\\sumat\\Desktop\\GSI Suman\\Code\\New folder\\New folder (2)\\GS1_moc_resamp.sig:  RD1T2\n"
     ]
    },
    {
     "name": "stdout",
     "output_type": "stream",
     "text": [
      "Processed data saved to: C:\\Users\\sumat\\Desktop\\GSI Suman\\Processed Files\\RD1T2.csv\n",
      "Original .sig file copied to: C:\\Users\\sumat\\Desktop\\GSI Suman\\Processed Files\\RD1T2.sig\n",
      "\n"
     ]
    }
   ],
   "source": [
    "import os\n",
    "import pandas as pd\n",
    "import glob\n",
    "import shutil\n",
    "\n",
    "# Define the root directory path where your folders are located\n",
    "root_dir = \"C:\\\\Users\\\\sumat\\\\Desktop\\\\GSI Suman\\\\Code\\\\New folder\"  # Replace with the actual path to the root directory\n",
    "\n",
    "# Define the output directory where you want to save all processed files\n",
    "output_dir = \"C:\\\\Users\\\\sumat\\\\Desktop\\\\GSI Suman\\\\Processed Files\"  # Replace with the desired output directory\n",
    "\n",
    "# Make sure the output directory exists\n",
    "os.makedirs(output_dir, exist_ok=True)\n",
    "\n",
    "# Pattern to match files ending in \"_moc_resamp.sig\"\n",
    "file_pattern = os.path.join(root_dir, '**', '*_moc_resamp.sig')  # '**' for recursive search\n",
    "\n",
    "# Use glob to search recursively for all files matching the pattern\n",
    "for file_path in glob.glob(file_pattern, recursive=True):\n",
    "    try:\n",
    "        # Read the file, skipping initial header lines\n",
    "        data = pd.read_csv(file_path, sep='\\s+', skiprows=4, on_bad_lines='skip')\n",
    "\n",
    "        wavelength = data.iloc[:, 0]\n",
    "        reflectance = data.iloc[:, -1]\n",
    "\n",
    "        extracted_data = pd.DataFrame({\n",
    "            \"Wavelength\": wavelength,\n",
    "            \"Reflectance\": reflectance\n",
    "        })\n",
    "\n",
    "        # Ask the user for a custom name to save the file\n",
    "        custom_name = input(f\"Enter a name for the CSV file (without extension) for data from {file_path}: \")\n",
    "\n",
    "        # Define the output file path for the CSV in the specified directory\n",
    "        csv_output_file = os.path.join(output_dir, f\"{custom_name}.csv\")\n",
    "        \n",
    "        # Save the processed data as a CSV file\n",
    "        extracted_data.to_csv(csv_output_file, index=False)\n",
    "        \n",
    "        # Define the output file path for the original .sig file\n",
    "        sig_output_file = os.path.join(output_dir, f\"{custom_name}.sig\")\n",
    "\n",
    "        # Copy the original .sig file to the output directory with the same custom name\n",
    "        shutil.copy(file_path, sig_output_file)\n",
    "        \n",
    "        # Display the locations of the saved files\n",
    "        print(f\"Processed data saved to: {csv_output_file}\")\n",
    "        print(f\"Original .sig file copied to: {sig_output_file}\\n\")\n",
    "\n",
    "    except Exception as e:\n",
    "        print(f\"Error processing file {file_path}: {e}\")\n"
   ]
  },
  {
   "cell_type": "code",
   "execution_count": 29,
   "id": "65762be8-efd8-40f0-b801-dfd59ebbfb7d",
   "metadata": {},
   "outputs": [
    {
     "name": "stdout",
     "output_type": "stream",
     "text": [
      "Data from C:\\Users\\sumat\\Desktop\\GSI Suman\\Code\\New folder\\New folder\\GS1_moc_resamp.sig:\n",
      "   346.0   350.35   82.81  23.64\n",
      "0  356.0   548.37   98.92  18.04\n",
      "1  366.0   733.51  116.21  15.84\n",
      "2  376.0  1020.12  139.32  13.66\n",
      "3  386.0  1277.04  150.11  11.75\n",
      "4  396.0  1627.44  191.47  11.76\n",
      "Data from C:\\Users\\sumat\\Desktop\\GSI Suman\\Code\\New folder\\New folder (2)\\GS1_moc_resamp.sig:\n",
      "   346.0   350.35   82.81  23.64\n",
      "0  356.0   548.37   98.92  18.04\n",
      "1  366.0   733.51  116.21  15.84\n",
      "2  376.0  1020.12  139.32  13.66\n",
      "3  386.0  1277.04  150.11  11.75\n",
      "4  396.0  1627.44  191.47  11.76\n"
     ]
    }
   ],
   "source": [
    "import os\n",
    "import pandas as pd\n",
    "import glob\n",
    "\n",
    "root_dir = \"C:\\\\Users\\\\sumat\\\\Desktop\\\\GSI Suman\\\\Code\\\\New folder\"  # Replace with the actual path to the root directory\n",
    "file_pattern = os.path.join(root_dir, '**', '*_moc_resamp.sig')  # '**' for recursive search\n",
    "all_data = []\n",
    "\n",
    "for file_path in glob.glob(file_pattern, recursive=True):\n",
    "    try:\n",
    "        data = pd.read_csv(file_path, sep='\\s+', skiprows=4, on_bad_lines='skip')\n",
    "        \n",
    "        print(f\"Data from {file_path}:\")\n",
    "        print(data.head())  # Display the first few rows to verify each file\n",
    "\n",
    "        # Append the file's path and data to all_data\n",
    "        all_data.append((file_path, data))\n",
    "\n",
    "    except Exception as e:\n",
    "        print(f\"Error processing file {file_path}: {e}\")\n",
    "\n"
   ]
  },
  {
   "cell_type": "code",
   "execution_count": 51,
   "id": "0d9197d5-187f-4226-9c2f-12577daccdf9",
   "metadata": {},
   "outputs": [
    {
     "name": "stdin",
     "output_type": "stream",
     "text": [
      "Enter a name for the CSV file (without extension) for data from C:\\Users\\sumat\\Desktop\\GSI Suman\\Red Apple -By Suman\\03_10_24\\RED BOTTOM\\RB_moc_resamp.sig:  D6RB1\n"
     ]
    },
    {
     "name": "stdout",
     "output_type": "stream",
     "text": [
      "Processed data saved to: C:\\Users\\sumat\\Desktop\\GSI Suman\\Processed Files\\D6RB1.csv\n",
      "Original .sig file copied to: C:\\Users\\sumat\\Desktop\\GSI Suman\\Processed Files\\D6RB1.sig\n",
      "\n"
     ]
    },
    {
     "name": "stdin",
     "output_type": "stream",
     "text": [
      "Enter a name for the CSV file (without extension) for data from C:\\Users\\sumat\\Desktop\\GSI Suman\\Red Apple -By Suman\\03_10_24\\RED SIDE 1\\RS1_moc_resamp.sig:  D6RS1\n"
     ]
    },
    {
     "name": "stdout",
     "output_type": "stream",
     "text": [
      "Processed data saved to: C:\\Users\\sumat\\Desktop\\GSI Suman\\Processed Files\\D6RS1.csv\n",
      "Original .sig file copied to: C:\\Users\\sumat\\Desktop\\GSI Suman\\Processed Files\\D6RS1.sig\n",
      "\n"
     ]
    },
    {
     "name": "stdin",
     "output_type": "stream",
     "text": [
      "Enter a name for the CSV file (without extension) for data from C:\\Users\\sumat\\Desktop\\GSI Suman\\Red Apple -By Suman\\03_10_24\\RED SIDE 2\\RS2_moc_resamp.sig:  D6RS2\n"
     ]
    },
    {
     "name": "stdout",
     "output_type": "stream",
     "text": [
      "Processed data saved to: C:\\Users\\sumat\\Desktop\\GSI Suman\\Processed Files\\D6RS2.csv\n",
      "Original .sig file copied to: C:\\Users\\sumat\\Desktop\\GSI Suman\\Processed Files\\D6RS2.sig\n",
      "\n"
     ]
    },
    {
     "name": "stdin",
     "output_type": "stream",
     "text": [
      "Enter a name for the CSV file (without extension) for data from C:\\Users\\sumat\\Desktop\\GSI Suman\\Red Apple -By Suman\\03_10_24\\RED SIDE 3\\RS3_moc_resamp.sig:  D6RS3\n"
     ]
    },
    {
     "name": "stdout",
     "output_type": "stream",
     "text": [
      "Processed data saved to: C:\\Users\\sumat\\Desktop\\GSI Suman\\Processed Files\\D6RS3.csv\n",
      "Original .sig file copied to: C:\\Users\\sumat\\Desktop\\GSI Suman\\Processed Files\\D6RS3.sig\n",
      "\n"
     ]
    },
    {
     "name": "stdin",
     "output_type": "stream",
     "text": [
      "Enter a name for the CSV file (without extension) for data from C:\\Users\\sumat\\Desktop\\GSI Suman\\Red Apple -By Suman\\03_10_24\\RED SIDE 4\\RS4_moc_resamp.sig:  D6RS4\n"
     ]
    },
    {
     "name": "stdout",
     "output_type": "stream",
     "text": [
      "Processed data saved to: C:\\Users\\sumat\\Desktop\\GSI Suman\\Processed Files\\D6RS4.csv\n",
      "Original .sig file copied to: C:\\Users\\sumat\\Desktop\\GSI Suman\\Processed Files\\D6RS4.sig\n",
      "\n"
     ]
    },
    {
     "name": "stdin",
     "output_type": "stream",
     "text": [
      "Enter a name for the CSV file (without extension) for data from C:\\Users\\sumat\\Desktop\\GSI Suman\\Red Apple -By Suman\\03_10_24\\RED SIDE 5\\RS5_moc_resamp.sig:  D6RS5\n"
     ]
    },
    {
     "name": "stdout",
     "output_type": "stream",
     "text": [
      "Processed data saved to: C:\\Users\\sumat\\Desktop\\GSI Suman\\Processed Files\\D6RS5.csv\n",
      "Original .sig file copied to: C:\\Users\\sumat\\Desktop\\GSI Suman\\Processed Files\\D6RS5.sig\n",
      "\n"
     ]
    },
    {
     "name": "stdin",
     "output_type": "stream",
     "text": [
      "Enter a name for the CSV file (without extension) for data from C:\\Users\\sumat\\Desktop\\GSI Suman\\Red Apple -By Suman\\03_10_24\\RED TOP 1\\RT1_moc_resamp.sig:  D6RT1\n"
     ]
    },
    {
     "name": "stdout",
     "output_type": "stream",
     "text": [
      "Processed data saved to: C:\\Users\\sumat\\Desktop\\GSI Suman\\Processed Files\\D6RT1.csv\n",
      "Original .sig file copied to: C:\\Users\\sumat\\Desktop\\GSI Suman\\Processed Files\\D6RT1.sig\n",
      "\n"
     ]
    },
    {
     "name": "stdin",
     "output_type": "stream",
     "text": [
      "Enter a name for the CSV file (without extension) for data from C:\\Users\\sumat\\Desktop\\GSI Suman\\Red Apple -By Suman\\03_10_24\\RED TOP 2\\RT2_moc_resamp.sig:  D6RT2\n"
     ]
    },
    {
     "name": "stdout",
     "output_type": "stream",
     "text": [
      "Processed data saved to: C:\\Users\\sumat\\Desktop\\GSI Suman\\Processed Files\\D6RT2.csv\n",
      "Original .sig file copied to: C:\\Users\\sumat\\Desktop\\GSI Suman\\Processed Files\\D6RT2.sig\n",
      "\n"
     ]
    }
   ],
   "source": [
    "import os\n",
    "import pandas as pd\n",
    "import glob\n",
    "import shutil\n",
    "\n",
    "# Define the root directory path where your folders are located\n",
    "root_dir = \"C:\\\\Users\\\\sumat\\\\Desktop\\\\GSI Suman\\\\Red Apple -By Suman\\\\03_10_24\"  # Replace with the actual path to the root directory\n",
    "\n",
    "# Define the output directory where you want to save all processed files\n",
    "output_dir = \"C:\\\\Users\\\\sumat\\\\Desktop\\\\GSI Suman\\\\Processed Files\"  # Replace with the desired output directory\n",
    "\n",
    "# Make sure the output directory exists\n",
    "os.makedirs(output_dir, exist_ok=True)\n",
    "\n",
    "# Pattern to match files ending in \"_moc_resamp.sig\"\n",
    "file_pattern = os.path.join(root_dir, '**', '*_moc_resamp.sig')  # '**' for recursive search\n",
    "\n",
    "# Use glob to search recursively for all files matching the pattern\n",
    "for file_path in glob.glob(file_pattern, recursive=True):\n",
    "    try:\n",
    "        # Read the file, skipping initial header lines\n",
    "        data = pd.read_csv(file_path, sep='\\s+', skiprows=4, on_bad_lines='skip')\n",
    "\n",
    "        wavelength = data.iloc[:, 0]\n",
    "        reflectance = data.iloc[:, -1]\n",
    "\n",
    "        extracted_data = pd.DataFrame({\n",
    "            \"Wavelength\": wavelength,\n",
    "            \"Reflectance\": reflectance\n",
    "        })\n",
    "\n",
    "        # Ask the user for a custom name to save the file\n",
    "        custom_name = input(f\"Enter a name for the CSV file (without extension) for data from {file_path}: \")\n",
    "\n",
    "        # Define the output file path for the CSV in the specified directory\n",
    "        csv_output_file = os.path.join(output_dir, f\"{custom_name}.csv\")\n",
    "        \n",
    "        # Save the processed data as a CSV file\n",
    "        extracted_data.to_csv(csv_output_file, index=False)\n",
    "        \n",
    "        # Define the output file path for the original .sig file\n",
    "        sig_output_file = os.path.join(output_dir, f\"{custom_name}.sig\")\n",
    "\n",
    "        # Copy the original .sig file to the output directory with the same custom name\n",
    "        shutil.copy(file_path, sig_output_file)\n",
    "        \n",
    "        # Display the locations of the saved files\n",
    "        print(f\"Processed data saved to: {csv_output_file}\")\n",
    "        print(f\"Original .sig file copied to: {sig_output_file}\\n\")\n",
    "\n",
    "    except Exception as e:\n",
    "        print(f\"Error processing file {file_path}: {e}\")\n"
   ]
  },
  {
   "cell_type": "code",
   "execution_count": 39,
   "id": "23f7b44b-53e4-4f81-a1ed-437584b7e55d",
   "metadata": {},
   "outputs": [
    {
     "name": "stdout",
     "output_type": "stream",
     "text": [
      "The Spectral Angle between the two samples is: 0.63 degrees\n"
     ]
    },
    {
     "data": {
      "image/png": "[encoded data removed]",
      "text/plain": [
       "<Figure size 1000x600 with 1 Axes>"
      ]
     },
     "metadata": {},
     "output_type": "display_data"
    },
    {
     "data": {
      "image/png": "[encoded data removed]",
      "text/plain": [
       "<Figure size 1000x600 with 1 Axes>"
      ]
     },
     "metadata": {},
     "output_type": "display_data"
    }
   ],
   "source": [
    "import numpy as np\n",
    "import pandas as pd\n",
    "import matplotlib.pyplot as plt\n",
    "\n",
    "# Load data from CSV files\n",
    "df1 = pd.read_csv(\"C:\\\\Users\\\\sumat\\\\Desktop\\\\GSI Suman\\\\Processed Files\\\\D1GB1.csv\", header=None, names=['Wavelength', 'Reflectance'])\n",
    "df2 = pd.read_csv(\"C:\\\\Users\\\\sumat\\\\Desktop\\\\GSI Suman\\\\Processed Files\\\\D1GB2.csv\", header=None, names=['Wavelength', 'Reflectance'])\n",
    "\n",
    "\n",
    "# Ensure Reflectance columns are numeric, coerce errors and drop any NaN values\n",
    "df1['Reflectance'] = pd.to_numeric(df1['Reflectance'], errors='coerce')\n",
    "df2['Reflectance'] = pd.to_numeric(df2['Reflectance'], errors='coerce')\n",
    "\n",
    "# Drop rows with NaN values in Reflectance columns (optional)\n",
    "df1.dropna(subset=['Reflectance'], inplace=True)\n",
    "df2.dropna(subset=['Reflectance'], inplace=True)\n",
    "\n",
    "# Extract the Reflectance data as numpy arrays\n",
    "reflectance_1 = df1['Reflectance'].values\n",
    "reflectance_2 = df2['Reflectance'].values\n",
    "\n",
    "# Ensure both arrays have the same length (truncate if needed)\n",
    "min_length = min(len(reflectance_1), len(reflectance_2))\n",
    "reflectance_1 = reflectance_1[:min_length]\n",
    "reflectance_2 = reflectance_2[:min_length]\n",
    "\n",
    "# Define the spectral angle mapper function\n",
    "def spectral_angle_mapper(spectral_curve1, spectral_curve2):\n",
    "    # Normalize the spectral curves\n",
    "    norm1 = spectral_curve1 / np.linalg.norm(spectral_curve1)\n",
    "    norm2 = spectral_curve2 / np.linalg.norm(spectral_curve2)\n",
    "\n",
    "    # Compute the spectral angle using dot product\n",
    "    cos_angle = np.clip(np.dot(norm1, norm2), -1.0, 1.0)  # Ensuring values are within [-1, 1]\n",
    "    angle = np.arccos(cos_angle)  # Result in radians\n",
    "    return angle\n",
    "\n",
    "# Compute Spectral Angle Mapper\n",
    "angle = spectral_angle_mapper(reflectance_1, reflectance_2)\n",
    "\n",
    "# Convert angle to degrees for easier interpretation\n",
    "angle_degrees = np.degrees(angle)\n",
    "print(f\"The Spectral Angle between the two samples is: {angle_degrees:.2f} degrees\")\n",
    "\n",
    "# Visualization of the reflectance curves\n",
    "plt.figure(figsize=(10, 6))\n",
    "plt.plot(df1['Wavelength'], reflectance_1, label='Sample 1', color='blue', alpha=0.6)\n",
    "plt.plot(df2['Wavelength'], reflectance_2, label='Sample 2', color='red', alpha=0.6)\n",
    "plt.title('Spectral Comparison')\n",
    "plt.xlabel('Wavelength')\n",
    "plt.ylabel('Reflectance')\n",
    "plt.legend()\n",
    "plt.show()\n",
    "\n",
    "# Plot histogram of reflectance values\n",
    "plt.figure(figsize=(10, 6))\n",
    "plt.hist(reflectance_1, bins=20, label='Sample 1', color='blue', alpha=0.5)\n",
    "plt.hist(reflectance_2, bins=20, label='Sample 2', color='red', alpha=0.5)\n",
    "plt.xlabel('Reflectance')\n",
    "plt.ylabel('Frequency')\n",
    "plt.title(f'Spectral Reflectance Distribution\\nSpectral Angle Difference: {angle_degrees:.2f} degrees')\n",
    "plt.legend()\n",
    "plt.show()\n",
    "\n"
   ]
  },
  {
   "cell_type": "code",
   "execution_count": null,
   "id": "a0f6d521-f68f-4127-85cf-664c8c093883",
   "metadata": {},
   "outputs": [],
   "source": []
  }
 ],
 "metadata": {
  "kernelspec": {
   "display_name": "Python 3 (ipykernel)",
   "language": "python",
   "name": "python3"
  },
  "language_info": {
   "codemirror_mode": {
    "name": "ipython",
    "version": 3
   },
   "file_extension": ".py",
   "mimetype": "text/x-python",
   "name": "python",
   "nbconvert_exporter": "python",
   "pygments_lexer": "ipython3",
   "version": "3.10.11"
  }
 },
 "nbformat": 4,
 "nbformat_minor": 5
}
