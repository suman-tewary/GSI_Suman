{
 "cells": [
  {
   "cell_type": "code",
   "execution_count": null,
   "id": "47735e5b-d095-4d3d-86ef-f6f3581c939f",
   "metadata": {},
   "outputs": [],
   "source": [
    "\n",
    "import pandas as pd\n",
    "import numpy as np\n",
    "\n",
    "# Load the Excel file\n",
    "file_path = 'D:\\Spectra\\Green Apple\\Gsi_GreenApp.xlsx'  # Replace with the actual path to your Excel file\n",
    "data = pd.read_excel(file_path)\n",
    "\n",
    "# Display the first few rows of the dataset\n",
    "print(\"First few rows of the dataset:\")\n",
    "print(data.head())\n",
    "\n",
    "# Group by 'Day' and calculate the variance for each wavelength\n",
    "grouped_data = data.groupby('Day').mean()  # Get the mean intensity for each day\n",
    "variance_across_days = grouped_data.var()  # Calculate the variance across days\n",
    "\n",
    "# Sort the variances in descending order\n",
    "sorted_variance = variance_across_days.sort_values(ascending=False)\n",
    "\n",
    "# Display the wavelengths with the highest variances\n",
    "print(\"Top wavelengths by variance across days:\")\n",
    "print(sorted_variance.head(10))\n",
    "\n",
    "# Optional: Save the variance data to a CSV file\n",
    "output_path = 'variance_across_days.csv'\n",
    "sorted_variance.to_csv(output_path, header=[\"Variance\"])\n",
    "print(f\"Variance data saved to {output_path}\")\n"
   ]
  }
 ],
 "metadata": {
  "kernelspec": {
   "display_name": "Python 3 (ipykernel)",
   "language": "python",
   "name": "python3"
  },
  "language_info": {
   "codemirror_mode": {
    "name": "ipython",
    "version": 3
   },
   "file_extension": ".py",
   "mimetype": "text/x-python",
   "name": "python",
   "nbconvert_exporter": "python",
   "pygments_lexer": "ipython3",
   "version": "3.10.11"
  }
 },
 "nbformat": 4,
 "nbformat_minor": 5
}
