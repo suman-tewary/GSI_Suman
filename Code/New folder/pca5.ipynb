{
 "cells": [
  {
   "cell_type": "code",
   "execution_count": 1,
   "id": "dee071f1-694b-4881-b154-8d07add423bc",
   "metadata": {},
   "outputs": [],
   "source": [
    "import numpy as np\n",
    "import pandas as pd\n",
    "import matplotlib as plt\n",
    "from numpy.linalg import eig\n",
    "\n",
    "def function1(data):\n",
    "    df1=pd.DataFrame(data)\n",
    "    correlation_matrix = df1.corr()\n",
    "    df = pd.DataFrame(data)\n",
    "    data_centered = df1 - df1.mean()\n",
    "    cov_matrix = np.cov(data_centered, rowvar=False)\n",
    "    eigenvalues, eigenvectors = np.linalg.eig(cov_matrix)\n",
    "    eigenvalues = np.real(eigenvalues)\n",
    "    variance_percentage = (eigenvalues / np.sum(eigenvalues)) * 100\n",
    "    variance_percentage_df=pd.DataFrame({\n",
    "        \"Feature\": feature_names,\n",
    "        \"Explained Variance (%)\": variance_percentage\n",
    "    })\n",
    "    results_sorted = variance_percentage_df.sort_values(by=\"Explained Variance (%)\", ascending=False)\n",
    "    results_sorted[\"Explained Variance (%)\"] = results_sorted[\"Explained Variance (%)\"].map(\"{:.2f}\".format)\n",
    "    print(results_sorted)\n"
   ]
  },
  {
   "cell_type": "code",
   "execution_count": 2,
   "id": "8de6b45e-0cb0-420a-bc34-7d5fbf07c3a2",
   "metadata": {},
   "outputs": [
    {
     "name": "stdout",
     "output_type": "stream",
     "text": [
      "Green Day 1\n",
      "   Feature Explained Variance (%)\n",
      "0    356.0                  87.55\n",
      "1    366.0                  10.41\n",
      "2    376.0                   1.66\n",
      "3    386.0                   0.16\n",
      "4    396.0                   0.12\n",
      "..     ...                    ...\n",
      "26   616.0                  -0.00\n",
      "18   536.0                  -0.00\n",
      "17   526.0                  -0.00\n",
      "9    446.0                  -0.00\n",
      "8    436.0                  -0.00\n",
      "\n",
      "[216 rows x 2 columns]\n"
     ]
    }
   ],
   "source": [
    "file_path =\"output_reflectance4.csv\"\n",
    "df = pd.read_csv(file_path, header=0)\n",
    "feature_names = df.columns[1:] \n",
    "data = df.iloc[:9, 1:].values.astype(float)\n",
    "print(\"Green Day 1\")\n",
    "function1(data)"
   ]
  },
  {
   "cell_type": "code",
   "execution_count": 3,
   "id": "469253c3-a1e2-4601-bf26-ea1c9277f33a",
   "metadata": {},
   "outputs": [
    {
     "name": "stdout",
     "output_type": "stream",
     "text": [
      "Green Day 2\n",
      "[[23.33 19.5  15.22 ...  8.99  8.91  9.2 ]\n",
      " [27.86 22.94 18.05 ...  8.84  8.66  9.06]\n",
      " [30.18 24.92 19.24 ... 11.73 11.83 12.06]\n",
      " ...\n",
      " [34.29 29.03 24.59 ... 13.24 13.8  13.59]\n",
      " [22.13 17.74 14.05 ...  6.55  6.55  6.8 ]\n",
      " [18.59 15.16 11.42 ...  7.08  6.76  6.88]]\n",
      "   Feature Explained Variance (%)\n",
      "0    356.0                  92.99\n",
      "1    366.0                   5.78\n",
      "2    376.0                   0.79\n",
      "3    386.0                   0.30\n",
      "4    396.0                   0.11\n",
      "..     ...                    ...\n",
      "7    426.0                  -0.00\n",
      "24   596.0                  -0.00\n",
      "25   606.0                  -0.00\n",
      "11   466.0                  -0.00\n",
      "6    416.0                  -0.00\n",
      "\n",
      "[216 rows x 2 columns]\n"
     ]
    }
   ],
   "source": [
    "data = df.iloc[18:25, 1:].values.astype(float)\n",
    "print(\"Green Day 2\")\n",
    "print(data)\n",
    "function1(data)"
   ]
  },
  {
   "cell_type": "code",
   "execution_count": 4,
   "id": "45a57f76-fb9c-4835-9255-2fc7d4cbcdb6",
   "metadata": {},
   "outputs": [
    {
     "name": "stdout",
     "output_type": "stream",
     "text": [
      "Green Day 3\n",
      "[[13.65 10.89  8.5  ...  3.22  3.26  2.9 ]\n",
      " [23.59 20.86 17.22 ...  8.66  8.68  8.41]\n",
      " [22.24 18.7  14.54 ...  7.47  7.43  7.53]\n",
      " ...\n",
      " [20.54 16.7  13.22 ...  6.27  6.39  5.97]\n",
      " [15.47 12.91 10.25 ...  3.69  3.88  3.5 ]\n",
      " [11.92  9.88  7.52 ...  2.72  2.57  2.94]]\n",
      "   Feature Explained Variance (%)\n",
      "0    356.0                  95.88\n",
      "1    366.0                   3.53\n",
      "2    376.0                   0.33\n",
      "3    386.0                   0.19\n",
      "4    396.0                   0.05\n",
      "..     ...                    ...\n",
      "19   546.0                  -0.00\n",
      "20   556.0                  -0.00\n",
      "9    446.0                  -0.00\n",
      "10   456.0                  -0.00\n",
      "6    416.0                  -0.00\n",
      "\n",
      "[216 rows x 2 columns]\n"
     ]
    }
   ],
   "source": [
    "data = df.iloc[34:41, 1:].values.astype(float)\n",
    "print(\"Green Day 3\")\n",
    "print(data)\n",
    "function1(data)"
   ]
  },
  {
   "cell_type": "code",
   "execution_count": 5,
   "id": "9badfa3f-5ffd-4c6e-8b39-842704dba0ef",
   "metadata": {},
   "outputs": [
    {
     "name": "stdout",
     "output_type": "stream",
     "text": [
      "Green Day 5\n",
      "[[21.76 17.84 13.81 ...  7.1   6.38  5.66]\n",
      " [36.82 32.07 27.48 ... 17.48 16.79 16.66]\n",
      " [38.35 33.24 27.92 ... 12.16 13.02 12.21]\n",
      " ...\n",
      " [29.38 25.61 21.1  ... 11.53 12.05 10.85]\n",
      " [14.92 12.88 10.33 ...  3.84  4.19  3.99]\n",
      " [15.67 12.92  9.47 ...  1.96  2.17  2.16]]\n",
      "   Feature Explained Variance (%)\n",
      "0    356.0                  97.24\n",
      "1    366.0                   2.14\n",
      "2    376.0                   0.34\n",
      "3    386.0                   0.14\n",
      "4    396.0                   0.09\n",
      "..     ...                    ...\n",
      "24   596.0                  -0.00\n",
      "25   606.0                  -0.00\n",
      "12   476.0                  -0.00\n",
      "7    426.0                  -0.00\n",
      "6    416.0                  -0.00\n",
      "\n",
      "[216 rows x 2 columns]\n"
     ]
    }
   ],
   "source": [
    "data = df.iloc[57:64, 1:].values.astype(float)\n",
    "print(\"Green Day 5\")\n",
    "print(data)\n",
    "function1(data)"
   ]
  },
  {
   "cell_type": "code",
   "execution_count": 6,
   "id": "c8a43334-fdb0-48e7-ac4c-8183f09c764c",
   "metadata": {},
   "outputs": [
    {
     "name": "stdout",
     "output_type": "stream",
     "text": [
      "Green Day 6\n",
      "[[15.05 13.27 11.41 ...  3.44  3.42  3.47]\n",
      " [18.04 15.84 13.66 ...  3.54  4.12  3.12]\n",
      " [10.88  8.7   6.39 ...  1.52  1.54  0.93]\n",
      " [14.08 11.77  9.41 ...  2.88  2.42  2.4 ]\n",
      " [10.73  8.91  6.99 ...  1.09  1.46  1.87]\n",
      " [11.91 10.08  7.56 ...  2.76  3.12  1.4 ]]\n",
      "   Feature Explained Variance (%)\n",
      "0    356.0                  92.56\n",
      "1    366.0                   4.27\n",
      "2    376.0                   2.83\n",
      "3    386.0                   0.28\n",
      "4    396.0                   0.06\n",
      "..     ...                    ...\n",
      "17   526.0                  -0.00\n",
      "16   516.0                  -0.00\n",
      "28   636.0                  -0.00\n",
      "11   466.0                  -0.00\n",
      "5    406.0                  -0.00\n",
      "\n",
      "[216 rows x 2 columns]\n"
     ]
    }
   ],
   "source": [
    "data = df.iloc[72:78, 1:].values.astype(float)\n",
    "print(\"Green Day 6\")\n",
    "print(data)\n",
    "function1(data)"
   ]
  },
  {
   "cell_type": "code",
   "execution_count": 7,
   "id": "7024a348-e69f-4a4d-92b2-ae69beb0a8bd",
   "metadata": {},
   "outputs": [
    {
     "name": "stdout",
     "output_type": "stream",
     "text": [
      "Red Day 1\n",
      "[[14.84 12.07  9.48 ...  3.47  3.45  3.57]\n",
      " [22.33 18.67 14.43 ...  5.34  5.21  4.6 ]\n",
      " [ 6.92  5.49  3.96 ...  0.86  0.67  1.01]\n",
      " ...\n",
      " [23.1  18.52 13.96 ...  3.15  2.81  3.3 ]\n",
      " [14.1  11.04  8.74 ...  1.68  1.96  2.16]\n",
      " [12.82  9.87  7.26 ...  1.49  1.81  1.23]]\n",
      "   Feature Explained Variance (%)\n",
      "0    356.0                  97.77\n",
      "1    366.0                   1.67\n",
      "2    376.0                   0.45\n",
      "3    386.0                   0.06\n",
      "4    396.0                   0.03\n",
      "..     ...                    ...\n",
      "8    436.0                  -0.00\n",
      "18   536.0                  -0.00\n",
      "17   526.0                  -0.00\n",
      "12   476.0                  -0.00\n",
      "13   486.0                  -0.00\n",
      "\n",
      "[216 rows x 2 columns]\n"
     ]
    }
   ],
   "source": [
    "data = df.iloc[9:18, 1:].values.astype(float)\n",
    "print(\"Red Day 1\")\n",
    "print(data)\n",
    "function1(data)"
   ]
  },
  {
   "cell_type": "code",
   "execution_count": 8,
   "id": "27ba3032-a0e1-4939-801f-d3a8614cb181",
   "metadata": {},
   "outputs": [
    {
     "name": "stdout",
     "output_type": "stream",
     "text": [
      "Red Day 2\n",
      "[[12.03  9.45  6.99 ...  3.66  3.79  3.75]\n",
      " [17.83 14.43 11.29 ...  5.01  4.99  4.17]\n",
      " [17.87 14.45 10.82 ...  6.49  6.72  6.44]\n",
      " ...\n",
      " [14.1  11.04  8.74 ...  1.68  1.96  2.16]\n",
      " [29.31 24.28 18.82 ...  5.98  6.05  5.74]\n",
      " [10.02  8.23  6.42 ...  1.87  1.83  2.04]]\n",
      "   Feature Explained Variance (%)\n",
      "0    356.0                  98.29\n",
      "1    366.0                   1.21\n",
      "2    376.0                   0.31\n",
      "3    386.0                   0.10\n",
      "4    396.0                   0.06\n",
      "..     ...                    ...\n",
      "18   536.0                  -0.00\n",
      "15   506.0                  -0.00\n",
      "11   466.0                  -0.00\n",
      "12   476.0                  -0.00\n",
      "13   486.0                  -0.00\n",
      "\n",
      "[216 rows x 2 columns]\n"
     ]
    }
   ],
   "source": [
    "data = df.iloc[25:34, 1:].values.astype(float)\n",
    "print(\"Red Day 2\")\n",
    "print(data)\n",
    "function1(data)"
   ]
  },
  {
   "cell_type": "code",
   "execution_count": 9,
   "id": "f4e8d30f-a348-4b26-82dd-ff8afa7b234c",
   "metadata": {},
   "outputs": [
    {
     "name": "stdout",
     "output_type": "stream",
     "text": [
      "Red Day 3\n",
      "[[21.09 17.43 14.03 ...  5.42  5.35  5.53]\n",
      " [30.13 25.92 21.62 ...  7.79  7.82  7.47]\n",
      " [22.66 18.9  14.8  ...  4.49  4.89  4.08]\n",
      " ...\n",
      " [25.92 21.89 18.35 ...  6.14  6.1   6.38]\n",
      " [20.17 16.72 12.45 ...  5.24  5.53  4.94]\n",
      " [11.01  8.75  6.67 ...  1.96  1.82  1.59]]\n",
      "   Feature Explained Variance (%)\n",
      "0    356.0                  97.22\n",
      "1    366.0                   1.74\n",
      "2    376.0                   0.54\n",
      "3    386.0                   0.34\n",
      "4    396.0                   0.14\n",
      "..     ...                    ...\n",
      "28   636.0                  -0.00\n",
      "25   606.0                  -0.00\n",
      "14   496.0                  -0.00\n",
      "9    446.0                  -0.00\n",
      "10   456.0                  -0.00\n",
      "\n",
      "[216 rows x 2 columns]\n"
     ]
    }
   ],
   "source": [
    "data = df.iloc[41:49, 1:].values.astype(float)\n",
    "print(\"Red Day 3\")\n",
    "print(data)\n",
    "function1(data)"
   ]
  },
  {
   "cell_type": "code",
   "execution_count": 10,
   "id": "dc9d9738-685e-4b35-a281-d857441f6a2a",
   "metadata": {},
   "outputs": [
    {
     "name": "stdout",
     "output_type": "stream",
     "text": [
      "Red Day 4\n",
      "[[26.85 21.05 16.68 ...  7.16  6.88  6.7 ]\n",
      " [32.65 27.7  23.   ... 10.34 10.21 11.36]\n",
      " [21.3  16.24 12.05 ...  3.53  4.3   4.4 ]\n",
      " ...\n",
      " [18.64 14.3  10.42 ...  1.31  1.52  1.27]\n",
      " [15.18 12.33  8.95 ...  2.52  2.4   1.37]\n",
      " [20.29 17.22 13.17 ...  3.33  3.44  3.74]]\n",
      "   Feature Explained Variance (%)\n",
      "0    356.0                  89.78\n",
      "1    366.0                   7.54\n",
      "2    376.0                   1.63\n",
      "3    386.0                   0.69\n",
      "4    396.0                   0.28\n",
      "..     ...                    ...\n",
      "25   606.0                  -0.00\n",
      "24   596.0                  -0.00\n",
      "7    426.0                  -0.00\n",
      "8    436.0                  -0.00\n",
      "9    446.0                  -0.00\n",
      "\n",
      "[216 rows x 2 columns]\n"
     ]
    }
   ],
   "source": [
    "data = df.iloc[49:57, 1:].values.astype(float)\n",
    "print(\"Red Day 4\")\n",
    "print(data)\n",
    "function1(data)"
   ]
  },
  {
   "cell_type": "code",
   "execution_count": 11,
   "id": "0384dffb-d836-4dd2-8fbc-99400c1e25e8",
   "metadata": {},
   "outputs": [
    {
     "name": "stdout",
     "output_type": "stream",
     "text": [
      "Red Day 5\n",
      "[[22.27 18.36 13.6  ...  6.42  6.33  6.5 ]\n",
      " [32.34 27.99 22.84 ...  9.77  9.69  9.69]\n",
      " [26.95 23.55 18.69 ...  6.71  5.81  6.08]\n",
      " ...\n",
      " [23.46 19.15 15.21 ...  6.6   6.58  5.46]\n",
      " [13.69 11.3   9.1  ...  3.65  4.01  4.36]\n",
      " [19.72 16.69 13.86 ...  5.02  4.64  3.82]]\n",
      "   Feature Explained Variance (%)\n",
      "0    356.0                  91.42\n",
      "1    366.0                   5.38\n",
      "2    376.0                   1.82\n",
      "3    386.0                   0.97\n",
      "4    396.0                   0.32\n",
      "..     ...                    ...\n",
      "21   566.0                  -0.00\n",
      "22   576.0                  -0.00\n",
      "12   476.0                  -0.00\n",
      "13   486.0                  -0.00\n",
      "14   496.0                  -0.00\n",
      "\n",
      "[216 rows x 2 columns]\n"
     ]
    }
   ],
   "source": [
    "data = df.iloc[64:72, 1:].values.astype(float)\n",
    "print(\"Red Day 5\")\n",
    "print(data)\n",
    "function1(data)"
   ]
  },
  {
   "cell_type": "code",
   "execution_count": 12,
   "id": "167104ad-32b5-481f-85af-671ad0a7aa4f",
   "metadata": {},
   "outputs": [
    {
     "name": "stdout",
     "output_type": "stream",
     "text": [
      "Red Day 6\n",
      "[[12.35 10.03  7.94 ...  3.44  3.43  2.93]\n",
      " [11.2   8.97  7.27 ...  3.1   2.52  2.59]\n",
      " [ 8.37  6.78  4.88 ...  1.18  1.33  0.88]\n",
      " ...\n",
      " [14.46 12.38  9.81 ...  4.78  5.12  3.63]\n",
      " [10.47  9.11  7.27 ...  2.57  2.42  2.8 ]\n",
      " [11.22  9.6   7.71 ...  4.34  3.78  4.2 ]]\n",
      "   Feature Explained Variance (%)\n",
      "0    356.0                  81.19\n",
      "1    366.0                  14.49\n",
      "2    376.0                   3.36\n",
      "3    386.0                   0.51\n",
      "4    396.0                   0.28\n",
      "..     ...                    ...\n",
      "11   466.0                  -0.00\n",
      "13   486.0                  -0.00\n",
      "14   496.0                  -0.00\n",
      "15   506.0                  -0.00\n",
      "16   516.0                  -0.00\n",
      "\n",
      "[216 rows x 2 columns]\n"
     ]
    }
   ],
   "source": [
    "data = df.iloc[78:86, 1:].values.astype(float)\n",
    "print(\"Red Day 6\")\n",
    "print(data)\n",
    "function1(data)"
   ]
  },
  {
   "cell_type": "code",
   "execution_count": 20,
   "id": "1402ca06-2bdb-4d84-9030-cccf45bb7b6f",
   "metadata": {},
   "outputs": [
    {
     "name": "stdout",
     "output_type": "stream",
     "text": [
      "423.80952380952385\n"
     ]
    }
   ],
   "source": [
    "\n",
    "data = [[20, 30, 22, 60, 70, 62, 50]]\n",
    "df = pd.DataFrame(data, columns=['A', 'B', 'C', 'D', 'E', 'F', 'G'])\n",
    "cov_matrix = np.cov(df, rowvar=False)\n",
    "print(cov_matrix)"
   ]
  },
  {
   "cell_type": "code",
   "execution_count": null,
   "id": "7c661d63-b013-425e-85d3-5773bac00263",
   "metadata": {},
   "outputs": [],
   "source": []
  }
 ],
 "metadata": {
  "kernelspec": {
   "display_name": "Python 3 (ipykernel)",
   "language": "python",
   "name": "python3"
  },
  "language_info": {
   "codemirror_mode": {
    "name": "ipython",
    "version": 3
   },
   "file_extension": ".py",
   "mimetype": "text/x-python",
   "name": "python",
   "nbconvert_exporter": "python",
   "pygments_lexer": "ipython3",
   "version": "3.10.11"
  }
 },
 "nbformat": 4,
 "nbformat_minor": 5
}
