{
 "cells": [
  {
   "cell_type": "code",
   "execution_count": null,
   "id": "2f134cbe-5137-4dd7-8447-c6d40b43efbb",
   "metadata": {},
   "outputs": [],
   "source": []
  }
 ],
 "metadata": {
  "kernelspec": {
   "display_name": "",
   "name": ""
  },
  "language_info": {
   "name": ""
  }
 },
 "nbformat": 4,
 "nbformat_minor": 5
}
